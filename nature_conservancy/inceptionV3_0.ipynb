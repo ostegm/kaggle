{
 "cells": [
  {
   "cell_type": "code",
   "execution_count": 62,
   "metadata": {
    "collapsed": false
   },
   "outputs": [],
   "source": [
    "from keras.applications.inception_v3 import InceptionV3\n",
    "\n",
    "from utils import *\n",
    "path = './data/'\n",
    "\n",
    "from keras.callbacks import ModelCheckpoint"
   ]
  },
  {
   "cell_type": "markdown",
   "metadata": {},
   "source": [
    "## Prep Data"
   ]
  },
  {
   "cell_type": "code",
   "execution_count": 59,
   "metadata": {
    "collapsed": false
   },
   "outputs": [
    {
     "name": "stdout",
     "output_type": "stream",
     "text": [
      "Found 1146 images belonging to 8 classes.\n",
      "Found 1000 images belonging to 1 classes.\n",
      "Found 2631 images belonging to 8 classes.\n"
     ]
    }
   ],
   "source": [
    "#Now for future iterations, just load the array\n",
    "val_batches = get_batches(path + 'valid/', batch_size=32, target_size=(299,299))\n",
    "tst_batches = get_batches(path + 'test_stg1/', batch_size=32, target_size=(299,299))\n",
    "\n",
    "aug_gen = image.ImageDataGenerator(rotation_range=15, \n",
    "                                   width_shift_range=.2, \n",
    "                                   height_shift_range=.2, \n",
    "                                   zoom_range=.5,\n",
    "                                  channel_shift_range=.5,\n",
    "                                  horizontal_flip=True,\n",
    "                                  vertical_flip=True)\n",
    "\n",
    "tr_batches = get_batches(path + 'train/', batch_size=32, \n",
    "                         gen=aug_gen, target_size=(299,299))\n"
   ]
  },
  {
   "cell_type": "markdown",
   "metadata": {},
   "source": [
    "## Fine Tune the Inception V3 Model \n",
    "- [Source Code for Inception](https://github.com/fchollet/keras/blob/master/keras/applications/inception_v3.py)\n",
    "- Skipping the final layer\n",
    "- Make the layers untrainable\n",
    "- Add in the fully connected block again\n",
    "- Train for a few epochs\n",
    "- Eval"
   ]
  },
  {
   "cell_type": "code",
   "execution_count": 64,
   "metadata": {
    "collapsed": false
   },
   "outputs": [],
   "source": [
    "base_model = InceptionV3(weights='imagenet', include_top=False)\n",
    "# freeze all convolutional InceptionV3 layers\n",
    "for layer in base_model.layers:\n",
    "    layer.trainable = False\n",
    "    \n",
    "# add a global spatial average pooling layer\n",
    "x = base_model.output\n",
    "x = GlobalAveragePooling2D()(x)\n",
    "\n",
    "#Fully connected blocks + Dropout\n",
    "x = Dense(1024, activation='relu')(x)\n",
    "x = Dropout(.5)(x)\n",
    "x = Dense(1024, activation='relu')(x)\n",
    "x = Dropout(.5)(x)\n",
    "predictions = Dense(8, activation='softmax')(x)\n",
    "\n",
    "# this is the model we will train\n",
    "model = Model(input=base_model.input, output=predictions)\n",
    "model.compile(Adam(), 'categorical_crossentropy', metrics=['accuracy'])\n",
    "\n"
   ]
  },
  {
   "cell_type": "code",
   "execution_count": 67,
   "metadata": {
    "collapsed": false
   },
   "outputs": [
    {
     "name": "stdout",
     "output_type": "stream",
     "text": [
      "Epoch 1/5\n",
      "7893/7893 [==============================] - 300s - loss: 1.3482 - acc: 0.5387 - val_loss: 0.9973 - val_acc: 0.6457\n",
      "Epoch 2/5\n",
      "7893/7893 [==============================] - 291s - loss: 1.0939 - acc: 0.6138 - val_loss: 1.0388 - val_acc: 0.6134\n",
      "Epoch 3/5\n",
      "7893/7893 [==============================] - 293s - loss: 1.0049 - acc: 0.6439 - val_loss: 0.9274 - val_acc: 0.6518\n",
      "Epoch 4/5\n",
      "7893/7893 [==============================] - 293s - loss: 0.9209 - acc: 0.6727 - val_loss: 0.7965 - val_acc: 0.7443\n",
      "Epoch 5/5\n",
      "7893/7893 [==============================] - 290s - loss: 0.8872 - acc: 0.6752 - val_loss: 0.7500 - val_acc: 0.7347\n"
     ]
    },
    {
     "data": {
      "text/plain": [
       "<keras.callbacks.History at 0x7f245a3b6450>"
      ]
     },
     "execution_count": 67,
     "metadata": {},
     "output_type": "execute_result"
    }
   ],
   "source": [
    "fname = 'models/inceptionV3_0/weights.{epoch:02d}-{val_loss:.2f}.h5'\n",
    "callbacks = [ModelCheckpoint(path + fname,)]\n",
    "model.fit_generator(tr_batches, tr_batches.nb_sample * 3, nb_epoch=5,\n",
    "                    validation_data=val_batches, nb_val_samples=val_batches.nb_sample,\n",
    "                    callbacks=callbacks)"
   ]
  },
  {
   "cell_type": "markdown",
   "metadata": {},
   "source": [
    "## Generate Submission"
   ]
  },
  {
   "cell_type": "code",
   "execution_count": 68,
   "metadata": {
    "collapsed": true
   },
   "outputs": [],
   "source": [
    "from nc_utils import *"
   ]
  },
  {
   "cell_type": "code",
   "execution_count": null,
   "metadata": {
    "collapsed": false
   },
   "outputs": [
    {
     "name": "stdout",
     "output_type": "stream",
     "text": [
      "Found 1000 images belonging to 1 classes.\n"
     ]
    }
   ],
   "source": [
    "\n",
    "# model.load_weights('../../data/nature_conservancy/weights/cnn_20170131_epoch_0.h5')\n",
    "gen = image.ImageDataGenerator()\n",
    "test_data = get_batches(path + 'test_stg1/', shuffle=False, \n",
    "                        batch_size=32, target_size=(299,299))\n",
    "\n",
    "#Predict class probabilities\n",
    "preds = model.predict_generator(test_data, test_data.nb_sample)\n",
    "#Clip at 75% for scoring on kaggle\n",
    "preds_clip = do_clip(preds,.75)\n"
   ]
  },
  {
   "cell_type": "code",
   "execution_count": null,
   "metadata": {
    "collapsed": true
   },
   "outputs": [],
   "source": [
    "img_ids = [img.split('/')[1] for img in test_data.filenames]\n",
    "results, fname = create_submission_file(preds_clip, img_ids, \"inceptionV3_0\")\n",
    "comp = 'the-nature-conservancy-fisheries-monitoring'\n",
    "info = 'inceptionV3_0 + Data Aug.'\n",
    "cmd = gen_submission_cmd(fname, comp, info):\n",
    "print(cmd)"
   ]
  },
  {
   "cell_type": "code",
   "execution_count": null,
   "metadata": {
    "collapsed": true
   },
   "outputs": [],
   "source": []
  }
 ],
 "metadata": {
  "anaconda-cloud": {},
  "kernelspec": {
   "display_name": "Python [conda root]",
   "language": "python",
   "name": "conda-root-py"
  },
  "language_info": {
   "codemirror_mode": {
    "name": "ipython",
    "version": 2
   },
   "file_extension": ".py",
   "mimetype": "text/x-python",
   "name": "python",
   "nbconvert_exporter": "python",
   "pygments_lexer": "ipython2",
   "version": "2.7.12"
  }
 },
 "nbformat": 4,
 "nbformat_minor": 1
}
