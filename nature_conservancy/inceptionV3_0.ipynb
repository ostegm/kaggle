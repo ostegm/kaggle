{
 "cells": [
  {
   "cell_type": "code",
   "execution_count": null,
   "metadata": {
    "collapsed": false
   },
   "outputs": [],
   "source": [
    "from keras.applications.inception_v3 import InceptionV3\n",
    "\n",
    "from utils import *\n",
    "path = './data/'\n",
    "\n",
    "from keras.callbacks import ModelCheckpoint\n",
    "from keras.preprocessing.image import ImageDataGenerator"
   ]
  },
  {
   "cell_type": "markdown",
   "metadata": {},
   "source": [
    "## Prep Data"
   ]
  },
  {
   "cell_type": "code",
   "execution_count": null,
   "metadata": {
    "collapsed": false
   },
   "outputs": [],
   "source": [
    "#Now for future iterations, just load the array\n",
    "val_batches = get_batches(path + 'valid/', batch_size=32, target_size=(299,299))\n",
    "tst_batches = get_batches(path + 'test_stg1/', batch_size=32, target_size=(299,299))\n",
    "\n",
    "aug_gen = ImageDataGenerator(rotation_range=15, \n",
    "                                   width_shift_range=.2, \n",
    "                                   height_shift_range=.2, \n",
    "                                   zoom_range=.5,\n",
    "                                  channel_shift_range=.5,\n",
    "                                  horizontal_flip=True,\n",
    "                                  vertical_flip=True)\n",
    "\n",
    "tr_batches = get_batches(path + 'train/', batch_size=32, \n",
    "                         gen=aug_gen, target_size=(299,299))\n"
   ]
  },
  {
   "cell_type": "markdown",
   "metadata": {},
   "source": [
    "## Fine Tune the Inception V3 Model \n",
    "- [Source Code for Inception](https://github.com/fchollet/keras/blob/master/keras/applications/inception_v3.py)\n",
    "- Skipping the final layer\n",
    "- Make the layers untrainable\n",
    "- Add in the fully connected block again\n",
    "- Train for a few epochs\n",
    "- Eval"
   ]
  },
  {
   "cell_type": "code",
   "execution_count": null,
   "metadata": {
    "collapsed": false
   },
   "outputs": [],
   "source": [
    "base_model = InceptionV3(weights='imagenet', include_top=False)\n",
    "# freeze all convolutional InceptionV3 layers\n",
    "for layer in base_model.layers:\n",
    "    layer.trainable = False\n",
    "    \n",
    "# add a global spatial average pooling layer\n",
    "x = base_model.output\n",
    "x = GlobalAveragePooling2D()(x)\n",
    "\n",
    "#Fully connected blocks + Dropout\n",
    "x = Dense(1024, activation='relu')(x)\n",
    "x = Dropout(.5)(x)\n",
    "x = Dense(1024, activation='relu')(x)\n",
    "x = Dropout(.5)(x)\n",
    "predictions = Dense(8, activation='softmax')(x)\n",
    "\n",
    "# this is the model we will train\n",
    "model = Model(input=base_model.input, output=predictions)\n",
    "model.compile(Adam(), 'categorical_crossentropy', metrics=['accuracy'])\n",
    "\n"
   ]
  },
  {
   "cell_type": "code",
   "execution_count": null,
   "metadata": {
    "collapsed": false
   },
   "outputs": [],
   "source": [
    "fname = 'models/inceptionV3_0/weights.{epoch:02d}-{val_loss:.2f}.h5'\n",
    "callbacks = [ModelCheckpoint(path + fname,)]\n",
    "#model.fit_generator(tr_batches, tr_batches.nb_sample * 3, nb_epoch=5,\n",
    "#                    validation_data=val_batches, nb_val_samples=val_batches.nb_sample,\n",
    "#                    callbacks=callbacks)"
   ]
  },
  {
   "cell_type": "markdown",
   "metadata": {},
   "source": [
    "## Add Some Psuedo Labeling\n",
    "- Load best weights\n",
    "- Create Predictions for the test set\n",
    "-Create batches for test, valid and train"
   ]
  },
  {
   "cell_type": "code",
   "execution_count": null,
   "metadata": {
    "collapsed": false
   },
   "outputs": [],
   "source": [
    "model_path = './data/models/inceptionV3_0/'\n",
    "model.load_weights(model_path + 'weights.04-0.75.h5')"
   ]
  },
  {
   "cell_type": "code",
   "execution_count": null,
   "metadata": {
    "collapsed": false
   },
   "outputs": [],
   "source": [
    "test = get_data(path + 'test_stg1/', target_size=(299,299))\n",
    "preds = model.predict(test, batch_size=64)"
   ]
  },
  {
   "cell_type": "code",
   "execution_count": null,
   "metadata": {
    "collapsed": false
   },
   "outputs": [],
   "source": [
    "#Vanilla generator & Augmentation Generator\n",
    "gen = ImageDataGenerator()\n",
    "aug_gen = ImageDataGenerator(rotation_range=15, \n",
    "                                   width_shift_range=.2, \n",
    "                                   height_shift_range=.2, \n",
    "                                   zoom_range=.5,\n",
    "                                  channel_shift_range=.5,\n",
    "                                  horizontal_flip=True,\n",
    "                                  vertical_flip=True)\n",
    "\n",
    "tr_batches = get_batches(path + 'train/', batch_size=44, \n",
    "                         gen=aug_gen, target_size=(299,299))\n",
    "val_batches = get_batches(path + 'valid/', batch_size=8, target_size=(299,299))\n",
    "test_baches = gen.flow(test, preds, batch_size=16)"
   ]
  },
  {
   "cell_type": "code",
   "execution_count": null,
   "metadata": {
    "collapsed": false
   },
   "outputs": [],
   "source": [
    "#Creates a way to mix up the train, test, validation data (44, 16, 8 images per batch)\n",
    "mi = MixIterator([tr_batches, val_batches, test_baches])"
   ]
  },
  {
   "cell_type": "code",
   "execution_count": null,
   "metadata": {
    "collapsed": false
   },
   "outputs": [],
   "source": [
    "fname = 'models/inceptionV3_0/weights.pseudolabeling.{epoch:02d}-{val_loss:.2f}.h5'\n",
    "callbacks = [ModelCheckpoint(path + fname)]\n",
    "model.fit_generator(mi, mi.N, nb_epoch=5, callbacks=callbacks,\n",
    "                    validation_data=val_batches, \n",
    "                    nb_val_samples=val_batches.nb_sample)"
   ]
  },
  {
   "cell_type": "markdown",
   "metadata": {
    "collapsed": true
   },
   "source": [
    "## Try Ensembling to Generate a prediction\n",
    "- Generate multiple predictions for the same test images with minor variations"
   ]
  },
  {
   "cell_type": "code",
   "execution_count": null,
   "metadata": {
    "collapsed": false
   },
   "outputs": [],
   "source": [
    "#Settings\n",
    "nb_test_samples = 1000\n",
    "nb_classes = 8\n",
    "nb_runs = 5\n",
    "nb_aug = 5\n",
    "arch = 'Inception'\n",
    "\n",
    "#Load best weights\n",
    "model_path = './data/models/inceptionV3_0/'\n",
    "model.load_weights(model_path + 'weights.04-0.75.h5')\n",
    "\n",
    "def predict_test(aug=False, img_size=(299,299)):\n",
    "    if aug:\n",
    "        print \"Using data augmentation\"\n",
    "        test_gen = ImageDataGenerator(rotation_range=10, width_shift_range=0.05, zoom_range=0.05,\n",
    "                              channel_shift_range=10, height_shift_range=0.05, shear_range=0.05,\n",
    "                             horizontal_flip=True)\n",
    "    else:\n",
    "        test_gen = ImageDataGenerator()\n",
    "    \n",
    "    #Image generator with/without aug\n",
    "    test_data = test_gen.flow_from_directory(path + 'test_stg1/', shuffle=False, \n",
    "                                            batch_size=32, target_size=img_size)\n",
    "    preds = model.predict_generator(test_data, test_data.nb_sample)\n",
    "    filenames = test_data.filenames\n",
    "    return preds, filenames\n",
    "\n",
    "\n",
    "def ensemble_predictions():    \n",
    "    predictions_full = np.zeros((nb_test_samples, nb_classes))\n",
    "    \n",
    "    for run in range(nb_runs):\n",
    "        print(\"\\nStarting Prediction Run {0} of {1}...\\n\".format(run+1, nb_runs))\n",
    "        predictions_aug = np.zeros((nb_test_samples, nb_classes))\n",
    "        \n",
    "        for aug in range(nb_aug):\n",
    "            print(\"\\n--Predicting on Augmentation {0} of {1}...\\n\".format(aug+1, nb_aug))          \n",
    "            print(\"----Predicting on {} model...\".format(arch))\n",
    "            pred, filenames = predict_test(aug=aug)\n",
    "            predictions_aug += pred\n",
    "        \n",
    "        #Avg all augmentation runs\n",
    "        predictions_aug /= nb_aug\n",
    "        predictions_full += predictions_aug\n",
    "    \n",
    "    #Avg all runs \n",
    "    predictions_full /= nb_runs\n",
    "    return predictions_full, filenames\n",
    "\n",
    "predictions, filenames = ensemble_predictions()"
   ]
  },
  {
   "cell_type": "markdown",
   "metadata": {},
   "source": [
    "## Generate Submission"
   ]
  },
  {
   "cell_type": "code",
   "execution_count": null,
   "metadata": {
    "collapsed": false
   },
   "outputs": [],
   "source": [
    "from nc_utils import *\n",
    "preds_clip = do_clip(predictions,.99)\n",
    "img_ids = [img.split('/')[1] for img in filenames]\n",
    "results, fname = create_submission_file(preds_clip, img_ids, \"inceptionV3_0_ensembling\")\n",
    "comp = 'the-nature-conservancy-fisheries-monitoring'\n",
    "info = 'inceptionV3_0 + Data Aug + Ensembling 99 clip'\n",
    "cmd = gen_submission_cmd(fname, comp, info)\n",
    "print(cmd)"
   ]
  }
 ],
 "metadata": {
  "anaconda-cloud": {},
  "kernelspec": {
   "display_name": "Python [conda root]",
   "language": "python",
   "name": "conda-root-py"
  },
  "language_info": {
   "codemirror_mode": {
    "name": "ipython",
    "version": 2
   },
   "file_extension": ".py",
   "mimetype": "text/x-python",
   "name": "python",
   "nbconvert_exporter": "python",
   "pygments_lexer": "ipython2",
   "version": "2.7.12"
  }
 },
 "nbformat": 4,
 "nbformat_minor": 1
}
